{
 "cells": [
  {
   "cell_type": "code",
   "execution_count": 19,
   "id": "c37f328f",
   "metadata": {},
   "outputs": [
    {
     "data": {
      "text/plain": [
       "[1, 2, 3, 4, 5]"
      ]
     },
     "execution_count": 19,
     "metadata": {},
     "output_type": "execute_result"
    }
   ],
   "source": [
    "my_list = [1, 2, 3, 4, 5]\n",
    "my_list"
   ]
  },
  {
   "cell_type": "code",
   "execution_count": 20,
   "id": "aaa2240b",
   "metadata": {},
   "outputs": [
    {
     "name": "stdout",
     "output_type": "stream",
     "text": [
      "[1, 2, 3, 4, 5, 6]\n"
     ]
    }
   ],
   "source": [
    "my_list.append(6)\n",
    "print(my_list)"
   ]
  },
  {
   "cell_type": "code",
   "execution_count": 21,
   "id": "843e6559",
   "metadata": {},
   "outputs": [
    {
     "data": {
      "text/plain": [
       "[1, 2, 3, 4, 5, 6, 11, 12, 13, 14, 15, 16]"
      ]
     },
     "execution_count": 21,
     "metadata": {},
     "output_type": "execute_result"
    }
   ],
   "source": [
    "your_list = [11, 12, 13, 14, 15, 16]\n",
    "my_list.extend(your_list)\n",
    "my_list"
   ]
  },
  {
   "cell_type": "code",
   "execution_count": 22,
   "id": "cda6841f",
   "metadata": {},
   "outputs": [
    {
     "data": {
      "text/plain": [
       "[1, 2, 3, 4, 5, 6, 7, 11, 12, 13, 14, 15, 16]"
      ]
     },
     "execution_count": 22,
     "metadata": {},
     "output_type": "execute_result"
    }
   ],
   "source": [
    "my_list.insert(6, 7)\n",
    "my_list"
   ]
  },
  {
   "cell_type": "markdown",
   "id": "bebd3eb0",
   "metadata": {},
   "source": [
    "list value delete"
   ]
  },
  {
   "cell_type": "code",
   "execution_count": 23,
   "id": "a27f9abf",
   "metadata": {},
   "outputs": [
    {
     "data": {
      "text/plain": [
       "[1, 2, 3, 4, 5, 6, 7, 12, 13, 14, 15]"
      ]
     },
     "execution_count": 23,
     "metadata": {},
     "output_type": "execute_result"
    }
   ],
   "source": [
    "my_list.pop()   #last value\n",
    "my_list.pop(7)  #based on index\n",
    "my_list"
   ]
  },
  {
   "cell_type": "code",
   "execution_count": 24,
   "id": "7adb893e",
   "metadata": {},
   "outputs": [
    {
     "data": {
      "text/plain": [
       "[1, 2, 3, 4, 5, 6, 7, 13, 14, 15]"
      ]
     },
     "execution_count": 24,
     "metadata": {},
     "output_type": "execute_result"
    }
   ],
   "source": [
    "my_list.remove(12)  #remove only first encoutered value\n",
    "my_list"
   ]
  },
  {
   "cell_type": "code",
   "execution_count": 25,
   "id": "7c723ff6",
   "metadata": {},
   "outputs": [],
   "source": [
    "#del my_list    #removed from memory\n",
    "#my_list"
   ]
  },
  {
   "cell_type": "code",
   "execution_count": 26,
   "id": "5cf4179c",
   "metadata": {},
   "outputs": [
    {
     "data": {
      "text/plain": [
       "[1, 2, 3, 4, 5, 6, 13, 14, 15]"
      ]
     },
     "execution_count": 26,
     "metadata": {},
     "output_type": "execute_result"
    }
   ],
   "source": [
    "del my_list[6]\n",
    "my_list"
   ]
  },
  {
   "cell_type": "markdown",
   "id": "da10758d",
   "metadata": {},
   "source": [
    "Access Elements"
   ]
  },
  {
   "cell_type": "code",
   "execution_count": 27,
   "id": "4bf7b3e4",
   "metadata": {},
   "outputs": [
    {
     "name": "stdout",
     "output_type": "stream",
     "text": [
      "2\n"
     ]
    }
   ],
   "source": [
    "value = 3\n",
    "if value in my_list:\n",
    "    print(my_list.index(value))\n",
    "else:\n",
    "    print(-1)"
   ]
  },
  {
   "cell_type": "code",
   "execution_count": 28,
   "id": "e829f6c4",
   "metadata": {},
   "outputs": [
    {
     "data": {
      "text/plain": [
       "1"
      ]
     },
     "execution_count": 28,
     "metadata": {},
     "output_type": "execute_result"
    }
   ],
   "source": [
    "my_list.count(13)"
   ]
  },
  {
   "cell_type": "code",
   "execution_count": 29,
   "id": "c77c583f",
   "metadata": {},
   "outputs": [
    {
     "name": "stdout",
     "output_type": "stream",
     "text": [
      "[1, 2, 3, 4, 5, 6, 13, 14, 15, 111]\n",
      "[1, 2, 3, 4, 5, 6, 13, 14, 15, 111]\n",
      "[1, 2, 3, 4, 5, 6, 13, 14, 15, 111]\n",
      "[1, 2, 3, 4, 5, 6, 13, 14, 15, 111, 222]\n"
     ]
    }
   ],
   "source": [
    "#shallow copy\n",
    "direct_my_list = my_list\n",
    "direct_my_list.append(111)\n",
    "print(my_list)\n",
    "print(direct_my_list)\n",
    "\n",
    "#deep copy\n",
    "copy_my_list = my_list.copy()\n",
    "copy_my_list.append(222)\n",
    "print(my_list)\n",
    "print(copy_my_list)"
   ]
  }
 ],
 "metadata": {
  "kernelspec": {
   "display_name": "Python 3",
   "language": "python",
   "name": "python3"
  },
  "language_info": {
   "codemirror_mode": {
    "name": "ipython",
    "version": 3
   },
   "file_extension": ".py",
   "mimetype": "text/x-python",
   "name": "python",
   "nbconvert_exporter": "python",
   "pygments_lexer": "ipython3",
   "version": "3.13.4"
  }
 },
 "nbformat": 4,
 "nbformat_minor": 5
}
